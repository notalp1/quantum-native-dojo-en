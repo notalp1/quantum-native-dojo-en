{
  "cells": [
   {
    "cell_type": "markdown",
    "metadata": {},
    "source": [
     "## 3-1. How to use QURI Parts? the world's fastest simulator\n",
     "\n",
     "QURI Parts is an open source library suite for creating and executing quantum algorithms on various quantum computers and simulators. \n",
     "\n",
     ]
   },
   
   {
    "cell_type": "markdown",
    "metadata": {},
    "source": []
   }
  ],
  "metadata": {
   "kernelspec": {
    "display_name": "Python 3.9.5 64-bit ('3.9.5')",
    "language": "python",
    "name": "python3"
   },
   "language_info": {
    "codemirror_mode": {
     "name": "ipython",
     "version": 3
    },
    "file_extension": ".py",
    "mimetype": "text/x-python",
    "name": "python",
    "nbconvert_exporter": "python",
    "pygments_lexer": "ipython3",
    "version": "3.9.5"
   },
   "varInspector": {
    "cols": {
     "lenName": 16,
     "lenType": 16,
     "lenVar": 40
    },
    "kernels_config": {
     "python": {
      "delete_cmd_postfix": "",
      "delete_cmd_prefix": "del ",
      "library": "var_list.py",
      "varRefreshCmd": "print(var_dic_list())"
     },
     "r": {
      "delete_cmd_postfix": ") ",
      "delete_cmd_prefix": "rm(",
      "library": "var_list.r",
      "varRefreshCmd": "cat(var_dic_list()) "
     }
    },
    "types_to_exclude": [
     "module",
     "function",
     "builtin_function_or_method",
     "instance",
     "_Feature"
    ],
    "window_display": false
   },
   "vscode": {
    "interpreter": {
     "hash": "80f21df302999c09c3d444fe636c3228c9e442cf42cf86d38eb61dd3d3032f70"
    }
   }
  },
  "nbformat": 4,
  "nbformat_minor": 2
 }
