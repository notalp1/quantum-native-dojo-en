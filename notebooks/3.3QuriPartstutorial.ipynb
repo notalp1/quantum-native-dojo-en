{
 "cells": [
  {
   "cell_type": "markdown",
   "metadata": {},
   "source": [
    "## 3-3. How to use QURI Parts\n",
    "QURI Parts is an open source library suite for creating and executing quantum algorithms on various quantum computers and simulators. In this section, you will learn how to install and use basic functions provided by QURI Parts.\n"
   ]
  },
  {
   "cell_type": "markdown",
   "metadata": {},
   "source": [ 
    "### Covered areas and components\n",
     "1.<b>Core components:</b><br>",
       "`quri-parts-circuit`: Quantum circuit (Gate, circuit, noise etc.)<br>",
       "`quri-parts-core`: General components (Operator, state, estimator, sampler etc.)<br>",
     "2.<b>Platform (device/simulator) support:</b> <br>",
       "<b>Quantum circuit simulators:</b><br>",
         "`quri-parts-qulacs`: Qulacs <br>",
         "`quri-parts-stim`: Stim <br>",
         "`quri-parts-itensor`: ITensor <br>",
      "<b>Quantum platforms/SDKs:</b> <br>",
        "`quri-parts-braket`: Amazon Braket SDK <br>",
        "`quri-parts-cirq`: Cirq (Only circuit conversion is supported yet) <br>",
        "`quri-parts-qiskit`: Qiskit (Circuit conversion and execution are not supported yet) <br>",
      "3. <b>Intermediate representation support:</b><br>",
       "`quri-parts-openqasm`: OpenQASM 3.0 <br>",
       "`quri-parts-algo`: Algorithm (Ansatz, optimizer, error mitigation etc.)<br>",
       "<b>Chemistry</b><br>",
       "`quri-parts-chem`: General concepts, Fermion-qubit mapping etc.<br>",
       "<b>Library support:</b> <br>",
       "`quri-parts-openfermion` <br>",
       "<br>",
       " <b>Installation of QURI Parts </b><br>",
       " QURI Parts requires Python 3.9.8 or later.\n",
       " Default installation only contains components not depending specific platforms (devices-simulators) or external libraries. You need to specify extras with square brackets to use those platforms and external libraries with QURI Parts: ",
       " Use `pip` to install QURI Parts:<br>"]},
      
       {
     "cell_type": "code",
     "execution_count": null,
     "metadata": {},
     "outputs": [],
     "source": [
     "## Default installation, no extras \n",
     " pip install quri-parts \n",
     "\n",
     "## Use Qulacs, a quantum circuit simulator \n",
     " pip install \"quri-parts[qulacs]\" \n",
     "\n",
     "## Use Amazon Braket SDK \n",
     " pip install \"quri-parts[braket]\" \n",
     "\n",
     "## Use Qulacs and OpenFermion, a quantum chemistry library for quantum computers \n",
     " pip install \"quri-parts[qulacs,openfermion]\" \n"
 ]
  },{
   "cell_type": "markdown",
   "metadata": {},
   "source": [
    "Currently available extras are as follows:\n",
    "`qulacs`,`braket`,`qiskit`,`cirq`,`openfermion`,`stim`,`openqasm`,`itensor`"
   ]
  },

       
      
      
    
 
  {
   "cell_type": "markdown",
   "metadata": {},
   "source": [
    "### Basic utilities of QURI Parts\n",
    "Quantum gates and circuits are essential when working on quantum computing.<br>",
    "Here we describe basic treatment of them in QURI Parts.<br>",
    "QURI Parts modules used in this tutorial: `quri-parts-circuit`, `quri-parts-core` and `quri-parts-qulacs`. You can install them as follows: <br>"
   ]
  },
  {
   "cell_type": "code",
   "execution_count": null,
   "metadata": {},
   "outputs": [],
   "source": [
    " pip install \"quri-parts[qulacs]\" \n"
   ]
  },
  {
   "cell_type": "markdown",
   "metadata": {},
   "source": [
    "### QuantumGate object\n",
    "In QURI Parts, a quantum gate is represented by a `QuantumGate` object (more precisely `NamedTuple`). A `QuantumGate` contains not only the kind of the gate but also some additional information such as gate parameters and qubits on which the gate acts. You can create gate objects using `QuantumGate`:"
   ]
  },
  {
   "cell_type": "code",
   "execution_count": null,
   "metadata": {},
   "outputs": [{ "name": "stdout",
     "output_type": "stream",
      "text": [
      "QuantumGate(name= X, target_indices=(0,), control_indices=(), params=(), pauli_ids=()) \n",
      "QuantumGate(name= RX, target_indices=(1,), control_indices=(), params=(1.0471975511965976,), pauli_ids=()) \n",
      "QuantumGate(name= CNOT, target_indices=(1,), control_indices=(2,), params=(), pauli_ids=()) "]}],
     
   "source": [
    "from math import pi \n",
    "from quri_parts.circuit import QuantumGate \n",
    "gates = [ \n",
    "# X gate acting on qubit 0 <\n",
    " QuantumGate(\"X\", target_indices=(0,)), \n",
    " # Rotation gate acting on qubit 1 with angle pi/3 \n",
    " QuantumGate(\"RX\", target_indices=(1,), params=(pi/3,)), \n",
    " # CNOT gate on control qubit 2 and target qubit 1 \n",
    " QuantumGate(\"CNOT\", target_indices=(1,), control_indices=(2,)) \n",
    "] \n",
    "for gate in gates: \n",
    "print(gate)"
    
   ]
  },
  {
   "cell_type": "markdown",
   "metadata": {},
   "source": [
    "However it is more convenient to use factory functions: \n"
   ]
  },
  {
   "cell_type": "code",
   "execution_count": 2,
   "metadata": {},
   "outputs": [{ "name": "stdout",
     "output_type": "stream",
      "text": [
      "QuantumGate(name= X, target_indices=(0,), control_indices=(), params=(), pauli_ids=()) \n",
      "QuantumGate(name= RX, target_indices=(1,), control_indices=(), params=(1.0471975511965976,), pauli_ids=()) \n",
      "QuantumGate(name= CNOT, target_indices=(1,), control_indices=(2,), params=(), pauli_ids=()) "]}],
   "source": [
    "##Import necessary modules\n",
    "from quri_parts.circuit import X, RX, CNOT \n",
    "gates = [ \n",
    "#X gate acting on qubit 0 <\n",
    "X(0), \n",
    " # Rotation gate acting on qubit 1 with angle pi/3 \n",
    "RX(1, pi/3), \n",
    " # CNOT gate on control qubit 2 and target qubit 1 \n",
    "CNOT(2, 1) \n",
    "] \n",
    "\n",
    "for gate in gates: \n",
    "print(gate)"
   ]
  },
{
   "cell_type": "markdown",
   "metadata": {},
   "source": [
    "### QuantumCircuit object\n",
    "You can construct a quantum circuit by specifying the number of qubits used in the circuit as follows:"
   ]
  },
  {
   "cell_type": "code",
   "execution_count": 3,
   "metadata": {},
   "outputs": [],
   "source": [
       "from quri_parts.circuit import QuantumCircuit\n",
       " # Create a circuit for 3 qubits\n",
       " circuit = QuantumCircuit(3)\n",
       " # Add an already created QuantumGate object \n",
       " circuit.add_gate(X(0))\n",
       " # Or use methods to add gates\n",
       " circuit.add_X_gate(0),\n",
       " circuit.add_RX_gate(1, pi/3) \n",
       " circuit.add_CNOT_gate(2, 1) \n",
       " circuit.add_PauliRotation_gate(target_qubits=(0, 1, 2), pauli_id_list=(1, 2, 3), angle=pi/3) \n"

      ]
     },
  {
   "cell_type": "markdown",
   "metadata": {},
   "source": [
    "A `QuantumCircuit` object has several properties:"
   ]
  },
  {
   "cell_type": "code",
   "execution_count": 4,
   "metadata": {},
   "outputs": [
    {
     "name": "stdout",
     "output_type": "stream",
     "text": [
      "Qubit count: 3\n",
      "Circuit depth: 3 \n",
      "# of gates in the circuit: 5 \n",
      "QuantumGate(name= X, target_indices=(0,), control_indices=(), params=(), pauli_ids=()) \n",
      "QuantumGate(name= X, target_indices=(0,), control_indices=(), params=(), pauli_ids=()) \n",
      "QuantumGate(name= RX, target_indices=(1,), control_indices=(), params=(1.0471975511965976,), pauli_ids=())",
      "QuantumGate(name= CNOT, target_indices=(1,), control_indices=(2,), params=(), pauli_ids=())",
      "QuantumGate(name= PauliRotation, target_indices=(0, 1, 2), control_indices=(), params=(1.0471975511965976,), pauli_ids=(1, 2, 3))"
      
      
     ]
    }
   ],
   "source": [
    "print(\"Qubit count:\", circuit.qubit_count) \n",
    "print(\"Circuit depth:\", circuit.depth)\n",
    "\n",
    "gates = circuit.gates # .gates returns the gates in the circuit as a sequence \n",
    "print(\"# of gates in the circuit:\", len(gates))",
    "for gate in gates: \n",
    "print(gate)"
   ]
  },
  {
   "cell_type": "markdown",
   "metadata": {},
   "source": [
    "`QuantumCircuit` objects with the same number of qubits can be combined and extended:"
   ]
  },
  {
   "cell_type": "code",
   "execution_count": 5,
   "metadata": {},
   "outputs": [
    {
     "name": "stdout",
     "output_type": "stream",
     "text": [
      "Combined circuit: (QuantumGate(name= X , target_indices=(0,), control_indices=(), params=(), pauli_ids=()), QuantumGate(name= X , target_indices=(0,), control_indices=(), params=(), pauli_ids=()), QuantumGate(name= RX, target_indices=(1,), control_indices=(), params=(1.0471975511965976,), pauli_ids=()), QuantumGate(name= CNOT, target_indices=(1,), control_indices=(2,), params=(), pauli_ids=()), QuantumGate(name= PauliRotation, target_indices=(0, 1, 2), control_indices=(), params=(1.0471975511965976,), pauli_ids=(1, 2, 3)), QuantumGate(name='Y', target_indices=(1,), control_indices=(), params=(), pauli_ids=()), QuantumGate(name= H, target_indices=(2,), control_indices=(), params=(), pauli_ids=()))\n",
      "Extended circuit: (QuantumGate(name= Y, target_indices=(1,), control_indices=(), params=(), pauli_ids=()), QuantumGate(name= H, target_indices=(2,), control_indices=(), params=(), pauli_ids=()), QuantumGate(name= X, target_indices=(0,), control_indices=(), params=(), pauli_ids=()), QuantumGate(name= X, target_indices=(0,), control_indices=(), params=(), pauli_ids=()), QuantumGate(name= RX, target_indices=(1,), control_indices=(), params=(1.0471975511965976,), pauli_ids=()), QuantumGate(name= CNOT, target_indices=(1,), control_indices=(2,), params=(), pauli_ids=()), QuantumGate(name= PauliRotation , target_indices=(0, 1, 2), control_indices=(), params=(1.0471975511965976,), pauli_ids=(1, 2, 3)))"
     ]
    }],
   "source": [
    "circuit2 = QuantumCircuit(3)\n",
    "circuit2.add_Y_gate(1)\n",
    "circuit2.add_H_gate(2)\n",
    "\n",
    "combined = circuit + circuit2 # equivalent: combined = circuit.combine(circuit2) \n",
    "print(\"Combined circuit:\", combined.gates) \n",
    "\n",
    "circuit2 += circuit # equivalent: circuit2.extend(circuit) \n",
    "print(\"Extended circuit:\", circuit2.gates)\n"
   ]
  },
  {
   "cell_type": "markdown",
   "metadata": {},
   "source": [
    "### Operators:\n",
    "An operator is defined as a set of pairs of a Pauli label and its complex coefficient. For example, an operator:<br>",
    "$(0.5+0.5j)*X0 Y1 + 0.2j*Z0 Z2 + (0.3+0.4j)*I$",
    "can be defined as follows:<br>"
   
   ]
  },
  {
   "cell_type": "code",
   "execution_count": 6,
   "metadata": {},
   "outputs": [
    {
     "name": "stdout",
     "output_type": "stream",
     "text": [
      "(0.5+0.5j)*X0 Y1 + 0.2j*Z0 Z2 + (0.3+0.4j)*I \n"
     ]
    }
   ],
   "source": [
    "from quri_parts.core.operator import Operator \n",
    "op = Operator({ \n",
    "   pauli_label(\"X0 Y1\"): 0.5 + 0.5j, \n",
    "   pauli_label(\"Z0 Z2\"): 0.2j,\n",
    "   PAULI_IDENTITY: 0.3 + 0.4j,\n",
    "}) \n",
    "print(op)"
   ]
  },
  {
   "cell_type": "markdown",
   "metadata": {},
   "source": [
    "To get a hermitian conjugated operator:"
   ]
  },{
   "cell_type": "code",
   "execution_count": 7,
   "metadata": {},
   "outputs": [
    {
     "name": "stdout",
     "output_type": "stream",
     "text": [
      "(0.5-0.5j)*X0 Y1 - 0.2j*Z0 Z2 + (0.3-0.4j)*I \n"
     ]
    }
   ],
   "source": [
    "conj = op.hermitian_conjugated()\n",
    "print(conj)"
   ]
  },



  {
   "cell_type": "markdown",
   "metadata": {},
   "source": [
    "### Reference\n",
    "\n",
    "[1] https://quri-parts.qunasys.com/tutorials [online] ( 2023-10-22)"
   ]
  },
  {
   "cell_type": "markdown",
   "metadata": {},
   "source": []
  }
 ],
 "metadata": {
  "kernelspec": {
   "display_name": "Python 3",
   "language": "python",
   "name": "python3"
  },
  "language_info": {
   "codemirror_mode": {
    "name": "ipython",
    "version": 3
   },
   "file_extension": ".py",
   "mimetype": "text/x-python",
   "name": "python",
   "nbconvert_exporter": "python",
   "pygments_lexer": "ipython3",
   "version": "3.7.5"
  },
  "varInspector": {
   "cols": {
    "lenName": 16,
    "lenType": 16,
    "lenVar": 40
   },
   "kernels_config": {
    "python": {
     "delete_cmd_postfix": "",
     "delete_cmd_prefix": "del ",
     "library": "var_list.py",
     "varRefreshCmd": "print(var_dic_list())"
    },
    "r": {
     "delete_cmd_postfix": ") ",
     "delete_cmd_prefix": "rm(",
     "library": "var_list.r",
     "varRefreshCmd": "cat(var_dic_list()) "
    }
   },
   "types_to_exclude": [
    "module",
    "function",
    "builtin_function_or_method",
    "instance",
    "_Feature"
   ],
   "window_display": false
  }
 },
 "nbformat": 4,
 "nbformat_minor": 2
}
