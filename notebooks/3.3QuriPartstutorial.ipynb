{
 "cells": [
  {
   "cell_type": "markdown",
   "metadata": {},
   "source": [
    "## 3-3. How to use QURI Parts\n",
    "QURI Parts is an open source library suite for creating and executing quantum algorithms on various quantum computers and simulators. In this section, you will learn how to install and use basic functions provided by QURI Parts.\n"
   ]
  },
  {
   "cell_type": "markdown",
   "metadata": {},
   "source": [ 
    "### Covered areas and components\n",
     "1.<b>Core components:</b><br>",
       "`quri-parts-circuit`: Quantum circuit (Gate, circuit, noise etc.)<br>",
       "`quri-parts-core`: General components (Operator, state, estimator, sampler etc.)<br>",
     "2.<b>Platform (device/simulator) support:</b> <br>",
       "<b>Quantum circuit simulators:</b><br>",
         "`quri-parts-qulacs`: Qulacs <br>",
         "`quri-parts-stim`: Stim <br>",
         "`quri-parts-itensor`: ITensor <br>",
      "<b>Quantum platforms/SDKs:</b> <br>",
        "`quri-parts-braket`: Amazon Braket SDK <br>",
        "`quri-parts-cirq`: Cirq (Only circuit conversion is supported yet) <br>",
        "`quri-parts-qiskit`: Qiskit (Circuit conversion and execution are not supported yet) <br>",
      "3. <b>Intermediate representation support:</b><br>",
       "`quri-parts-openqasm`: OpenQASM 3.0 <br>",
       "`quri-parts-algo`: Algorithm (Ansatz, optimizer, error mitigation etc.)<br>",
       "<b>Chemistry</b><br>",
       "`quri-parts-chem`: General concepts, Fermion-qubit mapping etc.<br>",
       "<b>Library support:</b> <br>",
       "`quri-parts-openfermion` <br>",
       " ### Installation of QURI Parts \n",
       " QURI Parts requires Python 3.9.8 or later.\n",
       " Default installation only contains components not depending specific platforms (devices-simulators) or external libraries. You need to specify extras with square brackets to use those platforms and external libraries with QURI Parts: ",
       " Use `pip` to install QURI Parts."
 
    
  ]   
 },
  {
   "cell_type": "markdown",
   "metadata": {},
   "source": [
    "### Quantum gates and circuits with QURI Parts\n",
    "Quantum gates and circuits are essential when working on quantum computing. Here we describe basic treatment of them in QURI Parts. Here is what you need to do to start:"
   ]
  },
  {
   "cell_type": "code",
   "execution_count": null,
   "metadata": {},
   "outputs": [],
   "source": [
    "!pip install \"quri-parts[braket,cirq,qiskit,qulacs,tket]\" "
   ]
  },
{
   "cell_type": "markdown",
   "metadata": {},
   "source": [
    "### QuantumGate object\n",
    "In QURI Parts, a quantum gate is represented by a `QuantumGate` object (more precisely `NamedTuple`). A `QuantumGate` contains not only the kind of the gate but also some additional information such as gate parameters and qubits on which the gate acts. You can create gate objects using `QuantumGate`:"
   ]
  }, {
   "cell_type": "code",
   "execution_count": null,
   "metadata": {},
   "outputs": [],
   "source": [
    "from math import pi \n",
     "from quri_parts.circuit import QuantumGate \n",

     "gates = [ \n",
    "# X gate acting on qubit 0 \n",
    "QuantumGate(\"X\", target_indices=(0,)), \n",
    "# Rotation gate acting on qubit 1 with angle pi/3 \n",
    "QuantumGate(\"RX\", target_indices=(1,), params=(pi/3,)), \n",
    "# CNOT gate on control qubit 2 and target qubit 1 \n",
    "QuantumGate(\"CNOT\", target_indices=(1,), control_indices=(2,)) \n",
    "] \n",
    "for gate in gates: \n",
    "    print(gate) "
   ]
  },
{
   "cell_type": "markdown",
   "metadata": {},
   "source": [
    "### Interface\n",
    " When performing a sampling measurement for a circuit, you can use a `Sampler`. In QURI Parts, a `Sampler` represents a function that samples a specified (non-parametric) circuit by a specified times and returns the count statistics. In the case of an ideal `Sampler`, the return value corresponds to probabilities multiplied by shot count.:\n",
    "\n",
    "In the case where sampling from multiple circuits is desired, QURI Parts also provide `ConcurrentSampler`, which is a function that samples from multiple (circuit, shot) pairs.\n",
    "\n",
    "`Sampler` and `ConcurrentSampler` are both abstract interfaces with the following function signatures:"
   ]
  },
 {
   "cell_type": "code",
   "execution_count": null,
   "metadata": {},
   "outputs": [],
   "source": [

"from typing import Callable, Iterable, Mapping, Union\n",
"from typing_extensions import TypeAlias\n",
"\n",
"from quri_parts.circuit import NonParametricQuantumCircuit\n",
"\n",
"#: MeasurementCounts represents count statistics of repeated measurements of a quantum\n",
"#: circuit. Keys are observed bit patterns encoded in integers and values are counts\n",
"#: of observation of the corresponding bit patterns.\n",
"MeasurementCounts: TypeAlias = Mapping[int, Union[int, float]]\n",

"#: Sampler represents a function that samples a specified (non-parametric) circuit by\n",
"#: a specified times and returns the count statistics. In the case of an ideal Sampler,\n",
"# the return value corresponds to probabilities multiplied by shot count.\n",
"Sampler: TypeAlias = Callable[[NonParametricQuantumCircuit, int], MeasurementCounts]\n",

"#: ConcurrentSampler represents a function that samples specified (non-parametric)\n",
"#: circuits concurrently.\n",
"ConcurrentSampler: TypeAlias = Callable[\n",
   " [Iterable[tuple[NonParametricQuantumCircuit, int]]], Iterable[MeasurementCounts]\n",
"]"



   ]
  },





  {
   "cell_type": "markdown",
   "metadata": {},
   "source": [
    
    "However it is more convenient to use built in factory functions:"
   ]
  },
  {
   "cell_type": "code",
   "execution_count": null,
   "metadata": {},
   "outputs": [],
   "source": [
    "from quri_parts.circuit import X, RX, CNOT \n",

    "gates = [\n",
    "# X gate acting on qubit 0\n",
    "X(0),\n",
    "# Rotation gate acting on qubit 1 with angle pi/3\n",
    "RX(1, pi/3),\n",
    "# CNOT gate on control qubit 2 and target qubit 1\n",
    "CNOT(2, 1),\n",
  "]\n",

"for gate in gates:\n",
"    print(gate)"
 
   ]
  },
  {
   "cell_type": "markdown",
   "metadata": {},
   "source": [
    "In QURI Parts single-qubit rotation gates are defined as follows: <br>",
    "$R_X(\\theta)= exp(-i\\frac{\\theta}{2}X)$ <br>",
    "$R_Y(\\theta)= exp(-i\\frac{\\theta}{2}Y)$ <br>",
    "$R_Z(\\theta)= exp(-i\\frac{\\theta}{2}Z)$ <br>",
    "where $\\theta$ is called the angle of the gate.<br>",
    "You can access (but not set) attributes of a gate object:"
   ]
  },
  {
   "cell_type": "code",
   "execution_count": 2,
   "metadata": {},
   "outputs": [

{
     "name": "stdout",
     "output_type": "stream",
     "text": [
        "name: X, target: (0,)\n",
    "name: RX, target: (1,), angle: 1.0471975511965976 \n",
    "name: CNOT, control: (2,), target: (1,) \n",
    "name: PauliRotation, target: (0, 1, 2), pauli_ids: (1, 2, 3), angle: 1.0471975511965976"
     ]
    }],
   "source": [
    "from quri_parts.circuit import PauliRotation \n",
    "x_gate = X(0) \n",
    "print(f\"name: {x_gate.name}, target: {x_gate.target_indices}\")\n",
    "\n",
    "rx_gate = RX(1, pi/3)\n",
    "print(f\"name: {rx_gate.name}, target: {rx_gate.target_indices}, angle: {rx_gate.params[0]}\")\n",
    "\n",
    "cnot_gate = CNOT(2, 1)\n",
    "print(f\"name: {cnot_gate.name}, control: {cnot_gate.control_indices}, target: {cnot_gate.target_indices}\")\n",
    "\n",
    "pauli_rot_gate = PauliRotation(target_indices=(0, 1, 2), pauli_ids=(1, 2, 3), angle=pi/3)\n",
    "print(f\"name: {pauli_rot_gate.name}, target: {pauli_rot_gate.target_indices}, pauli_ids: {pauli_rot_gate.pauli_ids}, angle: {pauli_rot_gate.params[0]}\")"
   ]},
{
   "cell_type": "markdown",
   "metadata": {},
   "source": [
    "###QuantumCircuit object\n",
    "You can construct a quantum circuit by specifying the number of qubits used in the circuit as follows:"
   ]
  },{
   "cell_type": "code",
   "execution_count": null,
   "metadata": {},
   "outputs": [],
   "source": [
 "from quri_parts.circuit import QuantumCircuit \n",
 "\n",
 "# Create a circuit for 3 qubits \n ",
 "circuit = QuantumCircuit(3) \n",
 "# Add an already created QuantumGate object\n",
 "circuit.add_gate(X(0)) \n",
 "# Or use methods to add gates \n",
 "circuit.add_X_gate(0)\n",
 "circuit.add_RX_gate(1, pi/3)\n",
 "circuit.add_CNOT_gate(2, 1)\n",
 "circuit.add_PauliRotation_gate(target_qubits=(0, 1, 2), pauli_id_list=(1, 2, 3), angle=pi/3)"
   ]
  },



  {
   "cell_type": "markdown",
   "metadata": {},
   "source": [
    "A `QuantumCircuit` object has several properties:"
   ]
  },
  {
   "cell_type": "code",
   "execution_count": 5,
   "metadata": {},
   "outputs": [
{
     "name": "stdout",
     "output_type": "stream",
     "text": [
    "Qubit count: 3 \n",
    "Circuit depth: 3 \n",
    "# of gates in the circuit: 5 \n",
    "QuantumGate(name='X', target_indices=(0,), control_indices=(), classical_indices=(), params=(), pauli_ids=(), unitary_matrix=())\n",
    "QuantumGate(name='X', target_indices=(0,), control_indices=(), classical_indices=(), params=(), pauli_ids=(), unitary_matrix=())\n",
    "QuantumGate(name='RX', target_indices=(1,), control_indices=(), classical_indices=(), params=(1.0471975511965976,), pauli_ids=(), unitary_matrix=())\n",
    "QuantumGate(name='CNOT', target_indices=(1,), control_indices=(2,), classical_indices=(), params=(), pauli_ids=(), unitary_matrix=())\n",
    "QuantumGate(name='PauliRotation', target_indices=(0, 1, 2), control_indices=(), classical_indices=(), params=(1.0471975511965976,), pauli_ids=(1, 2, 3), unitary_matrix=())"
     ]
    }],
   "source": [
    "print(\"Qubit count:\", circuit.qubit_count)\n",
    "print(\"Circuit depth:\", circuit.depth)\n",
    "\n",
    "gates = circuit.gates # .gates returns the gates in the circuit as a sequence \n",
    "print(\"# of gates in the circuit:\", len(gates))\n",
    "for gate in gates:\n",
    "    print(gate)\n"
   ]
  },{
   "cell_type": "markdown",
   "metadata": {},
   "source": [
    "`QuantumCircuit` objects can be combined and extended:"
   ]
  },
  {
   "cell_type": "code",
   "execution_count": 5,
   "metadata": {},
   "outputs": [
{
     "name": "stdout",
     "output_type": "stream",
     "text": [
 
    "Combined circuit:\n",
     "(QuantumGate(name='X', target_indices=(0,), control_indices=(), classical_indices=(), params=(), pauli_ids=(), unitary_matrix=()), QuantumGate(name='X', target_indices=(0,), control_indices=(), classical_indices=(), params=(), pauli_ids=(), unitary_matrix=()), QuantumGate(name='RX', target_indices=(1,), control_indices=(), classical_indices=(), params=(1.0471975511965976,), pauli_ids=(), unitary_matrix=()), QuantumGate(name='CNOT', target_indices=(1,), control_indices=(2,), classical_indices=(), params=(), pauli_ids=(), unitary_matrix=()), QuantumGate(name='PauliRotation', target_indices=(0, 1, 2), control_indices=(), classical_indices=(), params=(1.0471975511965976,), pauli_ids=(1, 2, 3), unitary_matrix=()), QuantumGate(name='Y', target_indices=(1,), control_indices=(), classical_indices=(), params=(), pauli_ids=(), unitary_matrix=()), QuantumGate(name='H', target_indices=(2,), control_indices=(), classical_indices=(), params=(), pauli_ids=(), unitary_matrix=()))\n",

    "Extended circuit:\n",
     "(QuantumGate(name='Y', target_indices=(1,), control_indices=(), classical_indices=(), params=(), pauli_ids=(), unitary_matrix=()), QuantumGate(name='H', target_indices=(2,), control_indices=(), classical_indices=(), params=(), pauli_ids=(), unitary_matrix=()), QuantumGate(name='X', target_indices=(0,), control_indices=(), classical_indices=(), params=(), pauli_ids=(), unitary_matrix=()), QuantumGate(name='X', target_indices=(0,), control_indices=(), classical_indices=(), params=(), pauli_ids=(), unitary_matrix=()), QuantumGate(name='RX', target_indices=(1,), control_indices=(), classical_indices=(), params=(1.0471975511965976,), pauli_ids=(), unitary_matrix=()), QuantumGate(name='CNOT', target_indices=(1,), control_indices=(2,), classical_indices=(), params=(), pauli_ids=(), unitary_matrix=()), QuantumGate(name='PauliRotation', target_indices=(0, 1, 2), control_indices=(), classical_indices=(), params=(1.0471975511965976,), pauli_ids=(1, 2, 3), unitary_matrix=()))\n",

   "Circuit extended by smaller one:\n",
     "(QuantumGate(name='X', target_indices=(3,), control_indices=(), classical_indices=(), params=(), pauli_ids=(), unitary_matrix=()), QuantumGate(name='H', target_indices=(0,), control_indices=(), classical_indices=(), params=(), pauli_ids=(), unitary_matrix=()))"
]
    }],
   "source": [
   "circuit2 = QuantumCircuit(3)\n",
"circuit2.add_Y_gate(1)\n",
"circuit2.add_H_gate(2)\n",
"\n",
"combined = circuit + circuit2 # equivalent: combined = circuit.combine(circuit2)\n",
"print(\"Combined circuit:\", combined.gates) \n",

"circuit2 += circuit # equivalent: circuit2.extend(circuit)\n",
"print(\"Extended circuit:\", circuit2.gates)\n",

"# You can also embed a smaller circuit into a larger one\n",
"circuit_larger = QuantumCircuit(5)\n",
"circuit_larger.add_X_gate(3)\n",
"circuit_smaller = QuantumCircuit(3)\n",
"circuit_smaller.add_H_gate(0)\n",
"circuit_larger.extend(circuit_smaller)\n",
"print(\"Circuit extended by smaller one:\", circuit_larger.gates)"
   ]
  },

{
   "cell_type": "markdown",
   "metadata": {},
   "source": [
    "## Sampler\n",
    "Unlike statevector simulation, sampling measurements are necessary in order to estimate expectation value of operators on a quantum computer. In sampling measurements, execution of a quantum circuit and a subsequent measurement of qubits are repeated multiple times. Estimation of expectation value of operators is then performed using statistics of the repeated measurements. \n",
    "\n",
    "To perform a sampling measurement of a circuit, you can use a `Sampler`. Here we introduce the definition of `Sampler` and explain how it can be created or executed."
   ]
  },

{
   "cell_type": "markdown",
   "metadata": {},
   "source": [
    "### Prerequisite\n",
    "QURI Parts modules used in this tutorial: `quri-parts-circuit`, `quri-parts-core` and `quri-parts-qulacs`. You can install them as follows: "
    
   ]
  },

{
   "cell_type": "code",
   "execution_count": 2,
   "metadata": {},
   "outputs": [],
   "source": [
   "!pip install \"quri-parts[qulacs]\""
   ]},
{
   "cell_type": "markdown",
   "metadata": {},
   "source": [
    "### Prepare a circuit\n",
    "As a preparation, we create a circuit to be sampled: "
    
   ]
  },


{
   "cell_type": "code",
   "execution_count": 2,
   "metadata": {},
   "outputs": [],
   "source": [
    "from math import pi \n",
"from quri_parts.circuit import QuantumCircuit \n",
"\n",
"# A circuit with 4 qubits\n",
"circuit = QuantumCircuit(4)\n",
"circuit.add_X_gate(0)\n",
"circuit.add_H_gate(1)\n",
"circuit.add_Y_gate(2)\n",
"circuit.add_CNOT_gate(1, 2)\n",
"circuit.add_RX_gate(3, pi/4)"
   ]},

{
   "cell_type": "markdown",
   "metadata": {},
   "source": [
    "### Interface\n",
    "When performing a sampling measurement for a circuit, you can use a `Sampler`. In QURI Parts, a `Sampler` represents a function that samples a specified (non-parametric) circuit by a specified times and returns the count statistics. In the case of an ideal `Sampler`, the return value corresponds to probabilities multiplied by shot count. \n",
     "\n",
   "In the case where sampling from multiple circuits is desired, QURI Parts also provide `ConcurrentSampler`, which is a function that samples from multiple (circuit, shot) pairs. \n",
   "`Sampler` and `ConcurrentSampler` are both abstract interfaces with the following function signatures:"
    
   ]
  },





{
   "cell_type": "code",
   "execution_count": 2,
   "metadata": {},
   "outputs": [],
   "source": [
"from typing import Callable, Iterable, Mapping, Union \n",
"from typing_extensions import TypeAlias\n",
"\n",
"from quri_parts.circuit import NonParametricQuantumCircuit\n",
"\n",
"#: MeasurementCounts represents count statistics of repeated measurements of a quantum\n",
"#: circuit. Keys are observed bit patterns encoded in integers and values are counts\n",
"#: of observation of the corresponding bit patterns.\n",
"MeasurementCounts: TypeAlias = Mapping[int, Union[int, float]]\n",
"\n",
"#: Sampler represents a function that samples a specified (non-parametric) circuit by\n",
"#: a specified times and returns the count statistics. In the case of an ideal Sampler,\n",
"# the return value corresponds to probabilities multiplied by shot count.\n",
"Sampler: TypeAlias = Callable[[NonParametricQuantumCircuit, int], MeasurementCounts]\n",
"\n",
"#: ConcurrentSampler represents a function that samples specified (non-parametric)\n",
"#: circuits concurrently.\n",
"ConcurrentSampler: TypeAlias = Callable[\n",
    "[Iterable[tuple[NonParametricQuantumCircuit, int]]], Iterable[MeasurementCounts]\n",
"]\n"
   ]},
{
   "cell_type": "markdown",
   "metadata": {},
   "source": [
    
    "The `Sampler` itself (defined in `quri_parts.core.sampling`) is an abstract interface and you need a concrete instance to actually perform sampling. There are several implementations of `Sampler` interface, some of which use a circuit simulator while others use a real quantum computer."
    
   ]
  },
{
   "cell_type": "markdown",
   "metadata": {},
   "source": [
    "### Create and execute sampler\n",
    "Let's create a sampler using state vector simulation with Qulacs and execute sampling with it."
    
    
   ]
  },
{
   "cell_type": "code",
   "execution_count": 2,
   "metadata": {},
   "outputs": [{
     "name": "stdout",
     "output_type": "stream",
     "text": [
    
    "Counter({5: 423, 3: 419, 13: 90, 11: 68})"
    ]
    }],
   "source": [
   "from quri_parts.qulacs.sampler import create_qulacs_vector_sampler\n",
"\n",
"# Create the sampler\n",
"sampler = create_qulacs_vector_sampler()\n",
"sampling_result = sampler(circuit, shots=1000)\n",
"print(sampling_result)"
   ]},


















 
  {
   "cell_type": "markdown",
   "metadata": {},
   "source": [
    "### Reference\n",
    "\n",
    "[1] https://quri-parts-doc.netlify.app "
   ]
  },
  {
   "cell_type": "markdown",
   "metadata": {},
   "source": []
  }
 ],
 "metadata": {
  "kernelspec": {
   "display_name": "Python 3",
   "language": "python",
   "name": "python3"
  },
  "language_info": {
   "codemirror_mode": {
    "name": "ipython",
    "version": 3
   },
   "file_extension": ".py",
   "mimetype": "text/x-python",
   "name": "python",
   "nbconvert_exporter": "python",
   "pygments_lexer": "ipython3",
   "version": "3.7.5"
  },
  "varInspector": {
   "cols": {
    "lenName": 16,
    "lenType": 16,
    "lenVar": 40
   },
   "kernels_config": {
    "python": {
     "delete_cmd_postfix": "",
     "delete_cmd_prefix": "del ",
     "library": "var_list.py",
     "varRefreshCmd": "print(var_dic_list())"
    },
    "r": {
     "delete_cmd_postfix": ") ",
     "delete_cmd_prefix": "rm(",
     "library": "var_list.r",
     "varRefreshCmd": "cat(var_dic_list()) "
    }
   },
   "types_to_exclude": [
    "module",
    "function",
    "builtin_function_or_method",
    "instance",
    "_Feature"
   ],
   "window_display": false
  }
 },
 "nbformat": 4,
 "nbformat_minor": 2
}
