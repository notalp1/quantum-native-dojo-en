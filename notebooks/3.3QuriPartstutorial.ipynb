{
 "cells": [
  {
   "cell_type": "markdown",
   "metadata": {},
   "source": [
    "## 3-3. How to use QURI Parts\n",
    "QURI Parts is an open source library suite for creating and executing quantum algorithms on various quantum computers and simulators. In this section, you will learn how to install and use basic functions provided by QURI Parts.\n"
   ]
  },
  {
   "cell_type": "markdown",
   "metadata": {},
   "source": [
    "### Covered areas and components\n",
    "1.<b>Core components:</b><br>",
    "`quri-parts-circuit`: Quantum circuit (Gate, circuit, noise etc.)<br>",
    "`quri-parts-core`: General components (Operator, state, estimator, sampler etc.)\n",
    "\n",
    "2.<b>Platform (device/simulator) support:</b> <br>",
       "<b>Quantum circuit simulators:</b><br>",
       "`quri-parts-qulacs`: Qulacs<br>",
       "`quri-parts-stim`: Stim<br>",
       "`quri-parts-itensor`: ITensor<br>",
       " <b>Quantum platforms/SDKs:</b><br>",
       "`quri-parts-braket`: Amazon Braket SDK <br>",
       "`quri-parts-cirq`: Cirq (Only circuit conversion is supported yet)<br>",
       "`quri-parts-qiskit`: Qiskit (Circuit conversion and execution are not supported yet)<br>",
    "3. <b>Intermediate representation support:</b><br>",
      "`quri-parts-openqasm`: OpenQASM 3.0 <br>",
      "`quri-parts-algo`: Algorithm (Ansatz, optimizer, error mitigation etc).<br>",
       "<b>Chemistry</b><br>",
       "`quri-parts-chem`: General concepts, Fermion-qubit mapping etc.<br>",
       "<b>Library support:</b><br>",
       "`quri-parts-openfermion`",
    "\n",
    "#### Installation of QURI Parts <br>",
    " QURI Parts requires Python 3.9.8 or later.<br>",
    "Default installation only contains components not depending specific platforms (devices-simulators) or external libraries. You need to specify extras with square brackets \(\[\]\) to use those platforms and external libraries with QURI Parts: <br>",
    "Use `pip` to install QURI Parts. ",
 ]},
 "metadata": {
  "kernelspec": {
   "display_name": "Python 3",
   "language": "python",
   "name": "python3"
  },
  "language_info": {
   "codemirror_mode": {
    "name": "ipython",
    "version": 3
   },
   "file_extension": ".py",
   "mimetype": "text/x-python",
   "name": "python",
   "nbconvert_exporter": "python",
   "pygments_lexer": "ipython3",
   "version": "3.7.5"
  },
  "varInspector": {
   "cols": {
    "lenName": 16,
    "lenType": 16,
    "lenVar": 40
   },
   "kernels_config": {
    "python": {
     "delete_cmd_postfix": "",
     "delete_cmd_prefix": "del ",
     "library": "var_list.py",
     "varRefreshCmd": "print(var_dic_list())"
    },
    "r": {
     "delete_cmd_postfix": ") ",
     "delete_cmd_prefix": "rm(",
     "library": "var_list.r",
     "varRefreshCmd": "cat(var_dic_list()) "
    }
   },
   "types_to_exclude": [
    "module",
    "function",
    "builtin_function_or_method",
    "instance",
    "_Feature"
   ],
   "window_display": false
  }
 },
 "nbformat": 4,
 "nbformat_minor": 2
}
